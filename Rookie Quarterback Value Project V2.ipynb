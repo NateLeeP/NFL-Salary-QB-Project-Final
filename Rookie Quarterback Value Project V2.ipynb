{
 "cells": [
  {
   "cell_type": "code",
   "execution_count": 2,
   "metadata": {},
   "outputs": [
    {
     "data": {
      "text/html": [
       "<script>\n",
       "code_show=true; \n",
       "function code_toggle() {\n",
       " if (code_show){\n",
       " $('div.input').hide();\n",
       " } else {\n",
       " $('div.input').show();\n",
       " }\n",
       " code_show = !code_show\n",
       "} \n",
       "$( document ).ready(code_toggle);\n",
       "</script>\n",
       "<form action=\"javascript:code_toggle()\"><input type=\"submit\" value=\"Toggle Code\"></form>"
      ],
      "text/plain": [
       "<IPython.core.display.HTML object>"
      ]
     },
     "execution_count": 2,
     "metadata": {},
     "output_type": "execute_result"
    }
   ],
   "source": [
    "from IPython.display import HTML\n",
    "\n",
    "HTML('''<script>\n",
    "code_show=true; \n",
    "function code_toggle() {\n",
    " if (code_show){\n",
    " $('div.input').hide();\n",
    " } else {\n",
    " $('div.input').show();\n",
    " }\n",
    " code_show = !code_show\n",
    "} \n",
    "$( document ).ready(code_toggle);\n",
    "</script>\n",
    "<form action=\"javascript:code_toggle()\"><input type=\"submit\" value=\"Toggle Code\"></form>''')"
   ]
  },
  {
   "cell_type": "code",
   "execution_count": 44,
   "metadata": {},
   "outputs": [],
   "source": [
    "import numpy as np\n",
    "import pandas as pd\n",
    "import matplotlib.pyplot as plt\n",
    "from sklearn import linear_model"
   ]
  },
  {
   "cell_type": "markdown",
   "metadata": {},
   "source": [
    "<p> Toggle code to view final data cleaning steps </p>"
   ]
  },
  {
   "cell_type": "markdown",
   "metadata": {},
   "source": [
    "<h1> Exploring the Value of Quarterbacks on Rookie Contracts </h1>\n",
    "<p style = \"font-size:110%\"> Quarterback is <i>the</i> position in football. Hopes of a franchise rest on the shoulders of whoever lines up under center. Quarterbacks get the credit, the glory, the money when a team succeeds. They are the first ones to fall when a team underachieves, falters, or collapses under pressure. Given the significance of the quarterback, it is no surprise they are among the highest paid players in the game. Even an above average quarterback can command $25 million per year contracts. With quarterbacks signing record breaking contracts every year, NFL teams began wondering: ‘How can we get valuable quarterbacks at a discounted rate?’. The answer: talented quarterbacks playing on rookie deals. </p>"
   ]
  },
  {
   "cell_type": "markdown",
   "metadata": {},
   "source": [
    "<h2> A New Era in Quarterback Evaluation </h2>\n",
    "<p style = \"font-size:110%\" > It wasn’t always this way. Before the advent of a contract-scale, some of the highest-paid players on teams were unproven rookies (JaMarcus Russell, anyone?)  Now, rookie contracts are controlled. This is especially valuable for the quarterback position, where talented rookies would fetch far more on the open market. Teams are taking advantage by filling out the rest of the roster around their talented, cost-controlled young quarterback. Patrick Mahoomes, still on his rookie contract, won the Superbowl in the 2019-2020 season a year after winning MVP. Lamar Jackson, the reigning MVP, is also on rookie contract. Common knowledge knows teams are getting a great deal; the question is, just how great a deal are they getting? </p>\n",
    "\n",
    "<p style = \"font-size:110%\"> To answer that, we will be using a Linear Regression to build a model that predicts salary. Using quarterback passing statistics pulled from pro-football-reference.com, the model will be built using statistics that correlate most with a quarterbacks average salary*. The model will be trained on ‘veteran’ quarterbacks. The term ‘veteran’ will mean any quarterback who has already signed and is receiving any contract that isn’t their rookie deal. We will be using the statistics from a quarterbacks “contract year”, or the statistics from the year before they signed their contract. Some quarterbacks fall off after signing their big deal, so contract year statistics are used to fully capture the performance that led to the team to offer what they did. To eliminate career back-ups who are paid for insurance and see little game time, only quarterbacks who threw at least 100 passes in 2018 or 2019 were considered. </p>\n",
    "\n",
    "<p style = \"font-size: 90%\">*Average salary on a contract is a misleading number, as it implies money owed to the player is evenly distributed across the length of the contract. This is not typically the case, as teams commonly ‘back load’ contracts, or pay out more of the contract in later years. Teams may also offer more guaranteed money to woo star players, offering more up front. Despite average salary not perfectly reflecting what a player receives annually, it still makes sense as a numerical value to assign to a players worth. Salary data was scraped from <a href = https://www.spotrac.com/> spotrac.com</p>"
   ]
  },
  {
   "cell_type": "code",
   "execution_count": 45,
   "metadata": {},
   "outputs": [],
   "source": [
    "# Read in DataFrame of contract year stats. \n",
    "QBs_DF = pd.read_csv(r'qb_contract_year_stats_df.csv', index_col='Year')\n",
    "\n",
    "# For model purposes, only consider QBs who threw >100 passes in contract year. \n",
    "QBs_DF = QBs_DF[QBs_DF['Att'] >= 100]\n",
    "\n",
    "\n",
    "# Correct naming convention on 'Pos' column\n",
    "QBs_DF['Pos'] =['QB' for x in range(len(QBs_DF['Pos']))]\n",
    "\n",
    "# Check which rows have NaN\n",
    "QBs_DF.isna().sum()\n",
    "\n",
    "# Fill NaN columns with known NaN values. Fourth quarter comebacks and Game-winning drives that are NaN are zero. \n",
    "QBs_DF['4QC'] = QBs_DF['4QC'].fillna(0.0)\n",
    "QBs_DF['QBrec'] = QBs_DF['QBrec'].fillna('0-0-0')\n",
    "QBs_DF['GWD'] = QBs_DF['GWD'].fillna(0.0)\n",
    "\n",
    "# Separate 'Wins', 'Losses', and 'Ties' into their own categories\n",
    "\n",
    "def wins_losses(row):\n",
    "    row['Wins'] = int(row['QBrec'].split('-')[0])\n",
    "    row['Losses'] = int(row['QBrec'].split('-')[1])\n",
    "    row['Ties'] = int(row['QBrec'].split('-')[2])\n",
    "    return row\n",
    "QBs_DF = QBs_DF.apply(wins_losses, axis = 1)"
   ]
  },
  {
   "cell_type": "code",
   "execution_count": 46,
   "metadata": {},
   "outputs": [
    {
     "name": "stdout",
     "output_type": "stream",
     "text": [
      "QBR       0.798201\n",
      "AV        0.712687\n",
      "TD        0.706057\n",
      "ANY/A     0.700755\n",
      "Wins      0.698456\n",
      "Rate      0.668777\n",
      "AY/A      0.653981\n",
      "Yds       0.630014\n",
      "1D        0.618144\n",
      "Y/G       0.610019\n",
      "GS        0.607986\n",
      "Cmp       0.606086\n",
      "NY/A      0.578591\n",
      "TD%       0.575759\n",
      "Att       0.565157\n",
      "G         0.564411\n",
      "Y/A       0.538598\n",
      "GWD       0.521994\n",
      "Cmp%      0.480735\n",
      "Lng       0.478551\n",
      "4QC       0.466918\n",
      "Y/C       0.397730\n",
      "Sk        0.330533\n",
      "Yds.1     0.281739\n",
      "Int       0.202116\n",
      "Ties      0.167312\n",
      "Age       0.142439\n",
      "No.       0.118253\n",
      "Losses    0.089561\n",
      "Sk%      -0.319938\n",
      "Int%     -0.408356\n",
      "Name: Salary, dtype: float64\n"
     ]
    }
   ],
   "source": [
    "# Building out model, using correlation as selection criteria. Ignoring QBS, AV, any stats that are built out using other stats. \n",
    "# QBR incorparates TD, Yds, etc. \n",
    "print(QBs_DF.corr()['Salary'].sort_values(ascending = False)[1:])"
   ]
  },
  {
   "cell_type": "markdown",
   "metadata": {},
   "source": [
    "<p style = \"font-size:110%\"> Model variables were selected based on how highly they correlated with salary. Above is the list of possible variables and how they correlate with salary. Despite a high correlation, statistics such as ‘QBR’, ‘AV’, ‘Rate’ were ignored as they are variables that are aggregations of many quarterback passing statistics. Variables ‘TD’, ‘1D’, ‘ANY/A’ (average net yards per pass attempt), ‘Cmp%’, and ‘Int%’ were used instead. ‘Wins’ was not used as this is a team statistic. Objective was to isolate individual quarterback statistics as much as possible.</p>"
   ]
  },
  {
   "cell_type": "code",
   "execution_count": 47,
   "metadata": {
    "scrolled": true
   },
   "outputs": [
    {
     "data": {
      "text/html": [
       "<style  type=\"text/css\" >\n",
       "    #T_c59f49ca_88fe_11ea_97d3_f0d5bf9b1a2brow0_col0 {\n",
       "            background-color:  #ffc77f;\n",
       "            color:  #000000;\n",
       "        }    #T_c59f49ca_88fe_11ea_97d3_f0d5bf9b1a2brow0_col1 {\n",
       "            background-color:  #f39a62;\n",
       "            color:  #000000;\n",
       "        }    #T_c59f49ca_88fe_11ea_97d3_f0d5bf9b1a2brow0_col2 {\n",
       "            background-color:  #ffb875;\n",
       "            color:  #000000;\n",
       "        }    #T_c59f49ca_88fe_11ea_97d3_f0d5bf9b1a2brow0_col3 {\n",
       "            background-color:  #b7744a;\n",
       "            color:  #000000;\n",
       "        }    #T_c59f49ca_88fe_11ea_97d3_f0d5bf9b1a2brow0_col4 {\n",
       "            background-color:  #2c1c12;\n",
       "            color:  #f1f1f1;\n",
       "        }    #T_c59f49ca_88fe_11ea_97d3_f0d5bf9b1a2brow1_col0 {\n",
       "            background-color:  #ee9760;\n",
       "            color:  #000000;\n",
       "        }    #T_c59f49ca_88fe_11ea_97d3_f0d5bf9b1a2brow1_col1 {\n",
       "            background-color:  #ffc77f;\n",
       "            color:  #000000;\n",
       "        }    #T_c59f49ca_88fe_11ea_97d3_f0d5bf9b1a2brow1_col2 {\n",
       "            background-color:  #cc8152;\n",
       "            color:  #000000;\n",
       "        }    #T_c59f49ca_88fe_11ea_97d3_f0d5bf9b1a2brow1_col3 {\n",
       "            background-color:  #ffa368;\n",
       "            color:  #000000;\n",
       "        }    #T_c59f49ca_88fe_11ea_97d3_f0d5bf9b1a2brow1_col4 {\n",
       "            background-color:  #1b110b;\n",
       "            color:  #f1f1f1;\n",
       "        }    #T_c59f49ca_88fe_11ea_97d3_f0d5bf9b1a2brow2_col0 {\n",
       "            background-color:  #ffb976;\n",
       "            color:  #000000;\n",
       "        }    #T_c59f49ca_88fe_11ea_97d3_f0d5bf9b1a2brow2_col1 {\n",
       "            background-color:  #d88957;\n",
       "            color:  #000000;\n",
       "        }    #T_c59f49ca_88fe_11ea_97d3_f0d5bf9b1a2brow2_col2 {\n",
       "            background-color:  #ffc77f;\n",
       "            color:  #000000;\n",
       "        }    #T_c59f49ca_88fe_11ea_97d3_f0d5bf9b1a2brow2_col3 {\n",
       "            background-color:  #a46842;\n",
       "            color:  #000000;\n",
       "        }    #T_c59f49ca_88fe_11ea_97d3_f0d5bf9b1a2brow2_col4 {\n",
       "            background-color:  #3a2517;\n",
       "            color:  #f1f1f1;\n",
       "        }    #T_c59f49ca_88fe_11ea_97d3_f0d5bf9b1a2brow3_col0 {\n",
       "            background-color:  #a16641;\n",
       "            color:  #000000;\n",
       "        }    #T_c59f49ca_88fe_11ea_97d3_f0d5bf9b1a2brow3_col1 {\n",
       "            background-color:  #fda066;\n",
       "            color:  #000000;\n",
       "        }    #T_c59f49ca_88fe_11ea_97d3_f0d5bf9b1a2brow3_col2 {\n",
       "            background-color:  #825234;\n",
       "            color:  #f1f1f1;\n",
       "        }    #T_c59f49ca_88fe_11ea_97d3_f0d5bf9b1a2brow3_col3 {\n",
       "            background-color:  #ffc77f;\n",
       "            color:  #000000;\n",
       "        }    #T_c59f49ca_88fe_11ea_97d3_f0d5bf9b1a2brow3_col4 {\n",
       "            background-color:  #000000;\n",
       "            color:  #f1f1f1;\n",
       "        }    #T_c59f49ca_88fe_11ea_97d3_f0d5bf9b1a2brow4_col0 {\n",
       "            background-color:  #000000;\n",
       "            color:  #f1f1f1;\n",
       "        }    #T_c59f49ca_88fe_11ea_97d3_f0d5bf9b1a2brow4_col1 {\n",
       "            background-color:  #000000;\n",
       "            color:  #f1f1f1;\n",
       "        }    #T_c59f49ca_88fe_11ea_97d3_f0d5bf9b1a2brow4_col2 {\n",
       "            background-color:  #000000;\n",
       "            color:  #f1f1f1;\n",
       "        }    #T_c59f49ca_88fe_11ea_97d3_f0d5bf9b1a2brow4_col3 {\n",
       "            background-color:  #000000;\n",
       "            color:  #f1f1f1;\n",
       "        }    #T_c59f49ca_88fe_11ea_97d3_f0d5bf9b1a2brow4_col4 {\n",
       "            background-color:  #ffc77f;\n",
       "            color:  #000000;\n",
       "        }</style><table id=\"T_c59f49ca_88fe_11ea_97d3_f0d5bf9b1a2b\" ><thead>    <tr>        <th class=\"blank level0\" ></th>        <th class=\"col_heading level0 col0\" >TD</th>        <th class=\"col_heading level0 col1\" >ANY/A</th>        <th class=\"col_heading level0 col2\" >1D</th>        <th class=\"col_heading level0 col3\" >Cmp%</th>        <th class=\"col_heading level0 col4\" >Int%</th>    </tr></thead><tbody>\n",
       "                <tr>\n",
       "                        <th id=\"T_c59f49ca_88fe_11ea_97d3_f0d5bf9b1a2blevel0_row0\" class=\"row_heading level0 row0\" >TD</th>\n",
       "                        <td id=\"T_c59f49ca_88fe_11ea_97d3_f0d5bf9b1a2brow0_col0\" class=\"data row0 col0\" >1</td>\n",
       "                        <td id=\"T_c59f49ca_88fe_11ea_97d3_f0d5bf9b1a2brow0_col1\" class=\"data row0 col1\" >0.69</td>\n",
       "                        <td id=\"T_c59f49ca_88fe_11ea_97d3_f0d5bf9b1a2brow0_col2\" class=\"data row0 col2\" >0.91</td>\n",
       "                        <td id=\"T_c59f49ca_88fe_11ea_97d3_f0d5bf9b1a2brow0_col3\" class=\"data row0 col3\" >0.38</td>\n",
       "                        <td id=\"T_c59f49ca_88fe_11ea_97d3_f0d5bf9b1a2brow0_col4\" class=\"data row0 col4\" >-0.28</td>\n",
       "            </tr>\n",
       "            <tr>\n",
       "                        <th id=\"T_c59f49ca_88fe_11ea_97d3_f0d5bf9b1a2blevel0_row1\" class=\"row_heading level0 row1\" >ANY/A</th>\n",
       "                        <td id=\"T_c59f49ca_88fe_11ea_97d3_f0d5bf9b1a2brow1_col0\" class=\"data row1 col0\" >0.69</td>\n",
       "                        <td id=\"T_c59f49ca_88fe_11ea_97d3_f0d5bf9b1a2brow1_col1\" class=\"data row1 col1\" >1</td>\n",
       "                        <td id=\"T_c59f49ca_88fe_11ea_97d3_f0d5bf9b1a2brow1_col2\" class=\"data row1 col2\" >0.57</td>\n",
       "                        <td id=\"T_c59f49ca_88fe_11ea_97d3_f0d5bf9b1a2brow1_col3\" class=\"data row1 col3\" >0.73</td>\n",
       "                        <td id=\"T_c59f49ca_88fe_11ea_97d3_f0d5bf9b1a2brow1_col4\" class=\"data row1 col4\" >-0.35</td>\n",
       "            </tr>\n",
       "            <tr>\n",
       "                        <th id=\"T_c59f49ca_88fe_11ea_97d3_f0d5bf9b1a2blevel0_row2\" class=\"row_heading level0 row2\" >1D</th>\n",
       "                        <td id=\"T_c59f49ca_88fe_11ea_97d3_f0d5bf9b1a2brow2_col0\" class=\"data row2 col0\" >0.91</td>\n",
       "                        <td id=\"T_c59f49ca_88fe_11ea_97d3_f0d5bf9b1a2brow2_col1\" class=\"data row2 col1\" >0.57</td>\n",
       "                        <td id=\"T_c59f49ca_88fe_11ea_97d3_f0d5bf9b1a2brow2_col2\" class=\"data row2 col2\" >1</td>\n",
       "                        <td id=\"T_c59f49ca_88fe_11ea_97d3_f0d5bf9b1a2brow2_col3\" class=\"data row2 col3\" >0.29</td>\n",
       "                        <td id=\"T_c59f49ca_88fe_11ea_97d3_f0d5bf9b1a2brow2_col4\" class=\"data row2 col4\" >-0.21</td>\n",
       "            </tr>\n",
       "            <tr>\n",
       "                        <th id=\"T_c59f49ca_88fe_11ea_97d3_f0d5bf9b1a2blevel0_row3\" class=\"row_heading level0 row3\" >Cmp%</th>\n",
       "                        <td id=\"T_c59f49ca_88fe_11ea_97d3_f0d5bf9b1a2brow3_col0\" class=\"data row3 col0\" >0.38</td>\n",
       "                        <td id=\"T_c59f49ca_88fe_11ea_97d3_f0d5bf9b1a2brow3_col1\" class=\"data row3 col1\" >0.73</td>\n",
       "                        <td id=\"T_c59f49ca_88fe_11ea_97d3_f0d5bf9b1a2brow3_col2\" class=\"data row3 col2\" >0.29</td>\n",
       "                        <td id=\"T_c59f49ca_88fe_11ea_97d3_f0d5bf9b1a2brow3_col3\" class=\"data row3 col3\" >1</td>\n",
       "                        <td id=\"T_c59f49ca_88fe_11ea_97d3_f0d5bf9b1a2brow3_col4\" class=\"data row3 col4\" >-0.49</td>\n",
       "            </tr>\n",
       "            <tr>\n",
       "                        <th id=\"T_c59f49ca_88fe_11ea_97d3_f0d5bf9b1a2blevel0_row4\" class=\"row_heading level0 row4\" >Int%</th>\n",
       "                        <td id=\"T_c59f49ca_88fe_11ea_97d3_f0d5bf9b1a2brow4_col0\" class=\"data row4 col0\" >-0.28</td>\n",
       "                        <td id=\"T_c59f49ca_88fe_11ea_97d3_f0d5bf9b1a2brow4_col1\" class=\"data row4 col1\" >-0.35</td>\n",
       "                        <td id=\"T_c59f49ca_88fe_11ea_97d3_f0d5bf9b1a2brow4_col2\" class=\"data row4 col2\" >-0.21</td>\n",
       "                        <td id=\"T_c59f49ca_88fe_11ea_97d3_f0d5bf9b1a2brow4_col3\" class=\"data row4 col3\" >-0.49</td>\n",
       "                        <td id=\"T_c59f49ca_88fe_11ea_97d3_f0d5bf9b1a2brow4_col4\" class=\"data row4 col4\" >1</td>\n",
       "            </tr>\n",
       "    </tbody></table>"
      ],
      "text/plain": [
       "<pandas.io.formats.style.Styler at 0x163e28eac08>"
      ]
     },
     "execution_count": 47,
     "metadata": {},
     "output_type": "execute_result"
    }
   ],
   "source": [
    "# Selected TDs, ANY/A, 1Ds, CMPS%, and INT%. Five variables, now checking for colinearity. Selected variables that, despite not being the most correlated with Salary, \n",
    "# on surface prevent colinearity issues and isolate away team factors (Wins, for example, can be seen as team factor). \n",
    "QBs_DF.corr()['TD'].sort_values(ascending = False)[1:]\n",
    "# TDs highly correlated with 1Ds. Dropping 1Ds. \n",
    "corr = QBs_DF[['TD', 'ANY/A','1D','Cmp%','Int%']].corr()\n",
    "corr.style.background_gradient(cmap='copper').set_precision(2)"
   ]
  },
  {
   "cell_type": "markdown",
   "metadata": {},
   "source": [
    "<p style = \"font-size:110%\"> Above is the colinearity table with the five model variables. Notice '1D' is highly correlated (.91) with TD. Therefore, '1D' is dropped from the model </p>"
   ]
  },
  {
   "cell_type": "code",
   "execution_count": 48,
   "metadata": {},
   "outputs": [],
   "source": [
    "# Similar correlation problems exist for Cmp% (completion percentage). Running a linear regression with 'TD', 'ANY/A', 'Cmp%', and 'Int%' \n",
    "# led to a negative coeffecient for 'Cmp%'. Logically, a more accurate quarterback would not be paid less. Thus, 'Cmp%' was eliminated\n",
    "model_variables = ['TD', 'ANY/A', 'Cmp%', 'Int%']\n",
    "outcome_variable = ['Salary']\n",
    "train_x = QBs_DF[model_variables]\n",
    "train_y = QBs_DF[outcome_variable]"
   ]
  },
  {
   "cell_type": "code",
   "execution_count": 49,
   "metadata": {},
   "outputs": [
    {
     "data": {
      "text/plain": [
       "TD        470052.01\n",
       "ANY/A    3414694.41\n",
       "Cmp%     -129783.76\n",
       "Int%    -2101573.24\n",
       "Name: Regression Model Variable Coefficients, dtype: float64"
      ]
     },
     "execution_count": 49,
     "metadata": {},
     "output_type": "execute_result"
    }
   ],
   "source": [
    "reg_model = linear_model.LinearRegression()\n",
    "fit_model = reg_model.fit(train_x, train_y)\n",
    "fit_model.coef_\n",
    "pd.Series(fit_model.coef_[0], index = model_variables, name= 'Regression Model Variable Coefficients').apply(lambda x: round(x,2))"
   ]
  },
  {
   "cell_type": "markdown",
   "metadata": {},
   "source": [
    "<p style=\"font-size:110%\"> Using the LinearRegression class from the sklearn linear_model module, we calculated a regression model for our model variables. This revealed an issue with the completion percentage variable. The ‘Cmp%’ has a negative coefficient, implying that the more accurate a quarterback is the more they will be paid. This does not make logical sense, and such was removed from the final model. </p>"
   ]
  },
  {
   "cell_type": "code",
   "execution_count": 50,
   "metadata": {},
   "outputs": [],
   "source": [
    "model_variables = ['TD','ANY/A', 'Int%']\n",
    "outcome_variable = ['Salary']\n",
    "train_x = QBs_DF[model_variables] # Variables for use on the model\n",
    "train_y = QBs_DF[outcome_variable] # Salary. Outcome variable for model. "
   ]
  },
  {
   "cell_type": "code",
   "execution_count": 51,
   "metadata": {
    "scrolled": true
   },
   "outputs": [
    {
     "data": {
      "text/plain": [
       "TD        484013.42\n",
       "ANY/A    3088083.27\n",
       "Int%    -1956263.76\n",
       "Name: Final Regression Model Variable Coefficients, dtype: float64"
      ]
     },
     "execution_count": 51,
     "metadata": {},
     "output_type": "execute_result"
    }
   ],
   "source": [
    "reg_model = linear_model.LinearRegression()\n",
    "fit_model = reg_model.fit(train_x,train_y)\n",
    "pd.Series(fit_model.coef_[0], index = model_variables, name = 'Final Regression Model Variable Coefficients').apply(lambda x: round(x,2))"
   ]
  },
  {
   "cell_type": "markdown",
   "metadata": {},
   "source": [
    "<p style=\"font-size:110%\"> With our model constructed, we can finally investigate the value of rookie quarterbacks. Using passing statistics from each quarterback's most recent year, we measure how much they <i>would </i>be paid on the open market vs how much they <i>are</i> being paid. </p>"
   ]
  },
  {
   "cell_type": "code",
   "execution_count": 52,
   "metadata": {},
   "outputs": [],
   "source": [
    "## Load in rookie data set. Rookie data set will be the test data. Compare to actual salary to observe how much overpaid/underpaid rookies are. \n",
    "rookie_df = pd.read_csv('rookie_contracts_2019_stats.csv')\n",
    "rookie_df = rookie_df.apply(wins_losses, axis = 1)\n",
    "\n",
    "test_x = rookie_df[model_variables]\n",
    "test_y = rookie_df[outcome_variable]\n",
    "\n",
    "predict_y = reg_model.predict(test_x)\n",
    "predict_y = np.concatenate([y if y > 0 else y -y for y in predict_y])"
   ]
  },
  {
   "cell_type": "code",
   "execution_count": 53,
   "metadata": {},
   "outputs": [],
   "source": [
    "# Diff between predicted and actual\n",
    "errors_y = predict_y - test_y.values\n",
    "# Constructing Axis for plot\n",
    "x_axis = rookie_df['Player'].apply(lambda x: x.split()[0] + '\\n' + x.split()[1])\n",
    "y_axis = test_y.values\n",
    "y_axis_2 = predict_y"
   ]
  },
  {
   "cell_type": "code",
   "execution_count": 54,
   "metadata": {},
   "outputs": [],
   "source": [
    "# Helper functions for cunstructing presentable graph\n",
    "\n",
    "def create_error_arrow(index):\n",
    "    # Draws arrows between 'Predicted' and 'Actual'. If there is not enough space between actual and predicted markers, function places difference above markers.\n",
    "    error = y_axis_2[index] - y_axis[index]\n",
    "    if error < 0:\n",
    "        ax.annotate(\"\",xy=(x_axis[index], y_axis_2[index]), xytext=(x_axis[index], ((y_axis_2[index] + y_axis[index])/2) - 1000000),arrowprops=dict(arrowstyle=\"->\", color = 'red'))\n",
    "        ax.annotate(\"\", xy=(x_axis[index], y_axis[index]), xytext = (x_axis[index],((y_axis_2[index] + y_axis[index])/2) + 1000000), arrowprops = dict(arrowstyle = '->', color = 'red'))\n",
    "        ax.annotate(format_errors(y_axis_2[index] - y_axis[index]), xy=(x_axis[index], ((y_axis_2[index] + y_axis[index])/2)), xytext=(-25, 0), textcoords = 'offset points', color = 'red')\n",
    "    elif abs(error)  < 4000000:\n",
    "        ax.annotate(\"\", xy = (x_axis[index], y_axis_2[index]), xytext = (x_axis[index], y_axis[index]), arrowprops= dict(arrowstyle='->', color = 'green'))\n",
    "        ax.annotate(format_errors(error), xy = (x_axis[index], y_axis_2[index]), xytext = (-20, 15), textcoords = 'offset points', color = 'green')\n",
    "    else:\n",
    "        ax.annotate(\"\",xy=(x_axis[index], y_axis_2[index]), xytext=(x_axis[index], ((y_axis_2[index] + y_axis[index])/2) + 1000000),arrowprops=dict(arrowstyle=\"->\", color = 'green'))\n",
    "        ax.annotate(\"\", xy=(x_axis[index], y_axis[index]), xytext = (x_axis[index],((y_axis_2[index] + y_axis[index])/2) - 1000000), arrowprops = dict(arrowstyle = '->', color = 'green'))\n",
    "        ax.annotate(format_errors(y_axis_2[index] - y_axis[index]), xy=(x_axis[index], ((y_axis_2[index] + y_axis[index])/2)), xytext=(-25, 0), textcoords = 'offset points', color = 'green')\n",
    "def format_errors(error):\n",
    "    #Format erors to condense and fit on graph.\n",
    "    error = roundup(int(error))\n",
    "    if abs(error) < 1000000:\n",
    "        error_form = '${:,}'.format(error)\n",
    "        error_form = error_form.replace(',000','')\n",
    "        return error_form + ' K'\n",
    "    else:\n",
    "        error_form = '${:,}'.format(error)\n",
    "        error_form = error_form.replace('00,000','').replace(',','.')\n",
    "        return error_form + ' M'    \n",
    "    \n",
    "def roundup(number):\n",
    "    # Round numbers to nearest hundred thousand\n",
    "    number = number / 100000\n",
    "    number = round(number)\n",
    "    number = number * 100000\n",
    "    return int(number)\n",
    "    "
   ]
  },
  {
   "cell_type": "code",
   "execution_count": 55,
   "metadata": {},
   "outputs": [
    {
     "data": {
      "image/png": "[encoded data removed]",
      "text/plain": [
       "<Figure size 1152x720 with 1 Axes>"
      ]
     },
     "metadata": {
      "needs_background": "light"
     },
     "output_type": "display_data"
    }
   ],
   "source": [
    "fig, ax = plt.subplots()\n",
    "fig.set_size_inches(16,10)\n",
    "ax.scatter(x_axis, y_axis, marker = 'o', label = 'Actual Salary', color = 'black')\n",
    "ax.scatter(x_axis, y_axis_2, label = 'Projected Salary', color = 'blue')\n",
    "for i in range(len(x_axis)):\n",
    "    create_error_arrow(i)\n",
    "ax.legend()\n",
    "ax.set_ylim(0,37000000)\n",
    "ax.set_yticklabels(['${:,}'.format(x) for x in range(0,35000001, 5000000)])\n",
    "ax.set_xticklabels(x_axis, fontsize = 9)\n",
    "fig.suptitle('Quarterback Projected Salaries vs Actual Salaries ', size = 18, fontweight = 'bold', y = .94)\n",
    "ax.set_title('Quarterbacks on Rookie Conctracts')\n",
    "ax.annotate('*Projections based on Linear Regression model. Quarterbacks threw more than 100 passes in their most recent full year.', xy = (0, -50), xycoords = 'axes points', fontstyle = 'italic')\n",
    "ax.annotate('+', xy = (x_axis[17], 0), xytext = (20, -18), textcoords = 'offset points')\n",
    "ax.annotate('+', xy = (0, -60), xycoords = 'axes points', fontstyle = 'italic')\n",
    "ax.annotate('Projection is based on 2018 statistics.', xy = (7, -64), xycoords = 'axes points', fontstyle = 'italic')\n",
    "plt.show()"
   ]
  },
  {
   "cell_type": "markdown",
   "metadata": {},
   "source": [
    "<h2> Conclusion </h2>\n",
    "\n",
    "<p style = 'font-size:110%' > Our results reveal what we already know: quarterbacks on rookie contracts are a boon for franchises. As one might expect, the past two MVPs (Patrick Mahomes and Lamar Jackson) lead the way in terms of most underpaid. Gardner Minshew, whose journey from sixth-round pick to future of the Jacksonville Jaguars, underscores the value of a quarterback on a cheap contract. Minshew will be paid $675,000 in 2020, but performs at a level comparable to a quarterback making 20x as much. Minshew was one of the league's best stories, but even quarterbacks who face media criticism can be seen as bargains. The Cleveland Browns were a disappointment to many, with quarterback Baker Mayfield taking the brunt of the criticism. He still performed at a level above his pay grade. </p>\n",
    "\n",
    "<p style = 'font-size:110%'>\n",
    "This analysis has its flaws. Only three variables are used in our model, and model selection was based more on feel than a backward or forward selection process. However, the results are in line with our expectations on the value of rookie contracts. Much has been made in the press about building around quarterbacks on rookie deals, and maybe the value of the contract is even greater than the hype. \n",
    "</p>"
   ]
  },
  {
   "cell_type": "code",
   "execution_count": null,
   "metadata": {},
   "outputs": [],
   "source": []
  }
 ],
 "metadata": {
  "kernelspec": {
   "display_name": "Python 3",
   "language": "python",
   "name": "python3"
  },
  "language_info": {
   "codemirror_mode": {
    "name": "ipython",
    "version": 3
   },
   "file_extension": ".py",
   "mimetype": "text/x-python",
   "name": "python",
   "nbconvert_exporter": "python",
   "pygments_lexer": "ipython3",
   "version": "3.7.5"
  }
 },
 "nbformat": 4,
 "nbformat_minor": 2
}
