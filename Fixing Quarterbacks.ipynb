{
 "cells": [
  {
   "cell_type": "code",
   "execution_count": 2,
   "metadata": {},
   "outputs": [],
   "source": [
    "import requests\n",
    "import pandas as pd\n",
    "from bs4 import BeautifulSoup as bs"
   ]
  },
  {
   "cell_type": "code",
   "execution_count": 61,
   "metadata": {},
   "outputs": [],
   "source": [
    "# Joe Flacco, Andrew Luck, Cam Newton, Blake Bortles, Alex Smith, Blaine Gabbert. \n",
    "# Extract career stats information. Goal is to add contract years to contract df. Right, all we are doing is extracting contract\n",
    "# year and salary. \n",
    "\n",
    "# Function to scrape QB data \n",
    "def qb_stats(name, url = None):\n",
    "    if url is not None:\n",
    "        url = url\n",
    "    else:\n",
    "        url = 'https://www.pro-football-reference.com/players/{}/{}00.htm'.format(name.split()[1][0], name.split()[1][:4] + name.split()[0][:2])\n",
    "    request = requests.get(url).text\n",
    "    soup = bs(request, features='lxml')\n",
    "\n",
    "    headers = [th.text for th in soup.findAll('tr')[0].findAll('th')]\n",
    "    index = [th.text for th in soup.find('table').findAll('th')[32:len(soup.find('table').findAll('th'))]]\n",
    "    index = [x.strip('+').strip('*') for x in index]\n",
    "    stats = [[td.text for td in tr.findAll('td')] for tr in soup.find('table').findAll('tr')[1:len(soup.find('table').findAll('tr'))]]\n",
    "        \n",
    "    dataframe = pd.DataFrame(stats, index = pd.Index(index, name = 'Year'),  columns = headers[1:len(headers)])\n",
    "    return dataframe\n",
    "def contract_dataframe(name, contract_year, salary, qb_df):\n",
    "    # Accepts contract_year, salary, and qb_df to create dataframe of contract year stats.\n",
    "    # Contract year is a string. \n",
    "    contract_year_df = qb_df.loc[[contract_year]]\n",
    "    contract_year_df.insert(loc = 1, column = 'Player', value = name)\n",
    "    contract_year_df.insert(loc = 32, column = 'Salary', value = salary )\n",
    "    return contract_year_df"
   ]
  },
  {
   "cell_type": "code",
   "execution_count": 62,
   "metadata": {},
   "outputs": [
    {
     "data": {
      "text/html": [
       "<div>\n",
       "<style scoped>\n",
       "    .dataframe tbody tr th:only-of-type {\n",
       "        vertical-align: middle;\n",
       "    }\n",
       "\n",
       "    .dataframe tbody tr th {\n",
       "        vertical-align: top;\n",
       "    }\n",
       "\n",
       "    .dataframe thead th {\n",
       "        text-align: right;\n",
       "    }\n",
       "</style>\n",
       "<table border=\"1\" class=\"dataframe\">\n",
       "  <thead>\n",
       "    <tr style=\"text-align: right;\">\n",
       "      <th></th>\n",
       "      <th>Age</th>\n",
       "      <th>Player</th>\n",
       "      <th>Tm</th>\n",
       "      <th>Pos</th>\n",
       "      <th>No.</th>\n",
       "      <th>G</th>\n",
       "      <th>GS</th>\n",
       "      <th>QBrec</th>\n",
       "      <th>Cmp</th>\n",
       "      <th>Att</th>\n",
       "      <th>...</th>\n",
       "      <th>QBR</th>\n",
       "      <th>Sk</th>\n",
       "      <th>Yds</th>\n",
       "      <th>NY/A</th>\n",
       "      <th>ANY/A</th>\n",
       "      <th>Sk%</th>\n",
       "      <th>4QC</th>\n",
       "      <th>GWD</th>\n",
       "      <th>AV</th>\n",
       "      <th>Salary</th>\n",
       "    </tr>\n",
       "    <tr>\n",
       "      <th>Year</th>\n",
       "      <th></th>\n",
       "      <th></th>\n",
       "      <th></th>\n",
       "      <th></th>\n",
       "      <th></th>\n",
       "      <th></th>\n",
       "      <th></th>\n",
       "      <th></th>\n",
       "      <th></th>\n",
       "      <th></th>\n",
       "      <th></th>\n",
       "      <th></th>\n",
       "      <th></th>\n",
       "      <th></th>\n",
       "      <th></th>\n",
       "      <th></th>\n",
       "      <th></th>\n",
       "      <th></th>\n",
       "      <th></th>\n",
       "      <th></th>\n",
       "      <th></th>\n",
       "    </tr>\n",
       "  </thead>\n",
       "  <tbody>\n",
       "    <tr>\n",
       "      <th>2015</th>\n",
       "      <td>30</td>\n",
       "      <td>Joe Flacco</td>\n",
       "      <td>BAL</td>\n",
       "      <td>QB</td>\n",
       "      <td>5</td>\n",
       "      <td>10</td>\n",
       "      <td>10</td>\n",
       "      <td>3-7-0</td>\n",
       "      <td>266</td>\n",
       "      <td>413</td>\n",
       "      <td>...</td>\n",
       "      <td>49.7</td>\n",
       "      <td>16</td>\n",
       "      <td>124</td>\n",
       "      <td>6.22</td>\n",
       "      <td>5.61</td>\n",
       "      <td>3.7</td>\n",
       "      <td>3</td>\n",
       "      <td>3</td>\n",
       "      <td>5</td>\n",
       "      <td>2220000</td>\n",
       "    </tr>\n",
       "  </tbody>\n",
       "</table>\n",
       "<p>1 rows × 33 columns</p>\n",
       "</div>"
      ],
      "text/plain": [
       "     Age      Player   Tm Pos No.   G  GS  QBrec  Cmp  Att  ...   QBR  Sk  \\\n",
       "Year                                                        ...             \n",
       "2015  30  Joe Flacco  BAL  QB   5  10  10  3-7-0  266  413  ...  49.7  16   \n",
       "\n",
       "      Yds  NY/A ANY/A  Sk% 4QC GWD AV   Salary  \n",
       "Year                                            \n",
       "2015  124  6.22  5.61  3.7   3   3  5  2220000  \n",
       "\n",
       "[1 rows x 33 columns]"
      ]
     },
     "execution_count": 62,
     "metadata": {},
     "output_type": "execute_result"
    }
   ],
   "source": [
    "contract_dataframe('Joe Flacco', '2015',2220000, qb_stats('Joe Flacco'))"
   ]
  },
  {
   "cell_type": "code",
   "execution_count": 75,
   "metadata": {},
   "outputs": [],
   "source": [
    "qb_dict = {'Joe Flacco':['2015', 22133333], 'Andrew Luck':['2015',24594000], 'Cam Newton':['2014', 20760000], \n",
    "          'Blake Bortles':['2018', 1000000], 'Alex Smith':['2017', 23500000], 'Blaine Gabbert':['2018',1000000]}"
   ]
  },
  {
   "cell_type": "code",
   "execution_count": 77,
   "metadata": {},
   "outputs": [],
   "source": [
    "d = pd.DataFrame()\n",
    "for qb, values in qb_dict.items():\n",
    "    if qb == 'Alex Smith':\n",
    "        a = contract_dataframe(qb, qb_dict[qb][0], qb_dict[qb][1], qb_stats(qb, 'https://www.pro-football-reference.com/players/S/SmitAl03.htm'))\n",
    "    else:\n",
    "        a = contract_dataframe(qb, qb_dict[qb][0], qb_dict[qb][1], qb_stats(qb))\n",
    "    d = pd.concat([d, a])\n",
    "    "
   ]
  },
  {
   "cell_type": "code",
   "execution_count": 68,
   "metadata": {},
   "outputs": [
    {
     "data": {
      "text/plain": [
       "['2015', 22133333]"
      ]
     },
     "execution_count": 68,
     "metadata": {},
     "output_type": "execute_result"
    }
   ],
   "source": [
    "qb_dict['Joe Flacco']"
   ]
  },
  {
   "cell_type": "code",
   "execution_count": 79,
   "metadata": {},
   "outputs": [],
   "source": [
    "d.to_csv(r'C:\\Users\\Nate P\\Desktop\\NFL Salary Project FINAL\\qb_contracts_quick_fix.csv')"
   ]
  },
  {
   "cell_type": "code",
   "execution_count": null,
   "metadata": {},
   "outputs": [],
   "source": []
  }
 ],
 "metadata": {
  "kernelspec": {
   "display_name": "Python 3",
   "language": "python",
   "name": "python3"
  },
  "language_info": {
   "codemirror_mode": {
    "name": "ipython",
    "version": 3
   },
   "file_extension": ".py",
   "mimetype": "text/x-python",
   "name": "python",
   "nbconvert_exporter": "python",
   "pygments_lexer": "ipython3",
   "version": "3.7.5"
  }
 },
 "nbformat": 4,
 "nbformat_minor": 2
}
